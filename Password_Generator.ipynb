{
 "cells": [
  {
   "cell_type": "markdown",
   "id": "8669f86f-24d1-4b02-8762-eac9788f115e",
   "metadata": {},
   "source": [
    "###  Project 11: Password Generator\n",
    "\n",
    "\n",
    "\n",
    "\n",
    "\n"
   ]
  },
  {
   "cell_type": "code",
   "execution_count": 16,
   "id": "86ffdb49-fff1-4678-9240-5250e63a8266",
   "metadata": {},
   "outputs": [
    {
     "data": {
      "text/markdown": [
       "**est.2025**"
      ],
      "text/plain": [
       "<IPython.core.display.Markdown object>"
      ]
     },
     "metadata": {},
     "output_type": "display_data"
    }
   ],
   "source": [
    "from IPython.display import Markdown, display\n",
    "display(Markdown(\"**est.2025**\"))\n",
    "\n"
   ]
  },
  {
   "cell_type": "code",
   "execution_count": 18,
   "id": "b3f58637",
   "metadata": {},
   "outputs": [
    {
     "name": "stdout",
     "output_type": "stream",
     "text": [
      "Generated Password: D'K6c=Sm|PEr-s1l\n"
     ]
    }
   ],
   "source": [
    "import random\n",
    "import string\n",
    "\n",
    "def generate_password(length=12, use_uppercase=True, use_lowercase=True, use_digits=True, use_special=True):\n",
    "    if not (use_uppercase or use_lowercase or use_digits or use_special):\n",
    "        return \"At least one character type must be selected.\"\n",
    "\n",
    "    character_pool = \"\"\n",
    "    if use_uppercase:\n",
    "        character_pool += string.ascii_uppercase\n",
    "    if use_lowercase:\n",
    "        character_pool += string.ascii_lowercase\n",
    "    if use_digits:\n",
    "        character_pool += string.digits\n",
    "    if use_special:\n",
    "        character_pool += string.punctuation\n",
    "\n",
    "    password = ''.join(random.choice(character_pool) for _ in range(length))\n",
    "    return password\n",
    "\n",
    "# Example usage:\n",
    "print(\"Generated Password:\", generate_password(length=16, use_uppercase=True, use_lowercase=True, use_digits=True, use_special=True))\n"
   ]
  },
  {
   "cell_type": "code",
   "execution_count": null,
   "id": "bd2d7ffb-4c4b-4ff0-99ca-67a6eace9c7c",
   "metadata": {},
   "outputs": [],
   "source": []
  },
  {
   "cell_type": "code",
   "execution_count": null,
   "id": "5145c410-9c45-48b7-acca-9da9531e3ae9",
   "metadata": {},
   "outputs": [],
   "source": []
  },
  {
   "cell_type": "code",
   "execution_count": null,
   "id": "0ace8c7e-3234-420d-835b-03b96265cf54",
   "metadata": {},
   "outputs": [],
   "source": []
  },
  {
   "cell_type": "code",
   "execution_count": null,
   "id": "67d4bd7d-0734-4f40-81e0-9690daefbcff",
   "metadata": {},
   "outputs": [],
   "source": []
  }
 ],
 "metadata": {
  "kernelspec": {
   "display_name": "Python [conda env:base] *",
   "language": "python",
   "name": "conda-base-py"
  },
  "language_info": {
   "codemirror_mode": {
    "name": "ipython",
    "version": 3
   },
   "file_extension": ".py",
   "mimetype": "text/x-python",
   "name": "python",
   "nbconvert_exporter": "python",
   "pygments_lexer": "ipython3",
   "version": "3.12.7"
  }
 },
 "nbformat": 4,
 "nbformat_minor": 5
}
